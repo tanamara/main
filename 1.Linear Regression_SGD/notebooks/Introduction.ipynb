{
 "cells": [
  {
   "cell_type": "markdown",
   "metadata": {},
   "source": [
    "## В целом <br>\n",
    "\n",
    "### Курс живет на https://github.com/rykachevskiy/239<br>\n",
    "\n",
    "### Мне можно писать: \n",
    "https://vk.com/rykachevskiy <br>\n",
    "anton.rykachevskiy@yandex.ru <br>\n",
    "telegram\\whatsapp +79153927261 \n",
    "\n",
    "*тут будет адрес чатика в телеграм\\вотсап\n",
    "\n",
    "__________________\n",
    "__________________\n",
    "\n"
   ]
  },
  {
   "cell_type": "markdown",
   "metadata": {},
   "source": [
    "##  Рекоммендуемый набор "
   ]
  },
  {
   "cell_type": "markdown",
   "metadata": {},
   "source": [
    "#### Linux (ubuntu, debian, fedora) \n",
    "Легко встает параллельно с windows, установка занимает 1-2 часа. \n",
    "Скачать Ubuntu тут: \n",
    "http://ubuntu.ru/  <br>\n",
    "\n",
    "Сильно упрощает работу с Python и библиотеками для машинного обучения. <br>\n",
    "Упрощает работу с git <br>\n",
    "Упрощает работу с удаленными сереверами <br>\n",
    "\n",
    "https://youtu.be/Vf_-OkqbwPo?t=1h11m56s\n",
    "\n",
    "_____\n"
   ]
  },
  {
   "cell_type": "markdown",
   "metadata": {},
   "source": [
    "#### Anaconda python > 3.4 <br>\n",
    "Это питон в комплекте со всеми возможными библиотеками для занитий машинным обучением\n",
    "\n",
    "https://anaconda.org/anaconda/python\n",
    "\n",
    "##### для  Ubuntu \n",
    "В терминале нужно написать следующее: <br>\n",
    "*sudo apt-get install conda*\n",
    "- sudo - права суперпользователя на установку и удаление программ\n",
    "- apt-get - пакетный менеджер (программа для установки программ) \n",
    "- install - команда для менеджера\n",
    "- conda - название того что хотите установить\n",
    "\n",
    "_______"
   ]
  },
  {
   "cell_type": "markdown",
   "metadata": {},
   "source": [
    "#### Jupyter notebook\n",
    "Мы будем чаще всего использовать ноутбуки (jupyter notebook) для работы с Python <br>\n",
    "\n",
    "Бонусы:\n",
    "- интерактивная среда выполнения\n",
    "- легко прототипировать, думать, пробовать\n",
    "- более менне работаеющее автодополнение *tab*\n",
    "- просмотр аннотаций *shift + tab*\n",
    "\n",
    "###### Для запуска под Ubuntu \n",
    "Добавить папку куда встала анаконда в переменную PATH: <br>\n",
    " \n",
    "# TODO\n",
    "\n",
    "Запустить ноутбук: <br>\n",
    "jupyter notebook"
   ]
  },
  {
   "cell_type": "code",
   "execution_count": null,
   "metadata": {},
   "outputs": [],
   "source": []
  }
 ],
 "metadata": {
  "kernelspec": {
   "display_name": "Python 3",
   "language": "python",
   "name": "python3"
  },
  "language_info": {
   "codemirror_mode": {
    "name": "ipython",
    "version": 3
   },
   "file_extension": ".py",
   "mimetype": "text/x-python",
   "name": "python",
   "nbconvert_exporter": "python",
   "pygments_lexer": "ipython3",
   "version": "3.6.3"
  }
 },
 "nbformat": 4,
 "nbformat_minor": 2
}
