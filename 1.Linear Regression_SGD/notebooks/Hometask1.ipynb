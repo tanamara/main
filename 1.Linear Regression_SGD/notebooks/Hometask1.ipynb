{
 "cells": [
  {
   "cell_type": "markdown",
   "metadata": {},
   "source": [
    " ## Введение"
   ]
  },
  {
   "cell_type": "markdown",
   "metadata": {},
   "source": [
    "Много примеров есть в ноутбуке Python + numpy intro.ipynb\n",
    "\n",
    "\n",
    "Можно открыть его рядом и смотреть"
   ]
  },
  {
   "cell_type": "code",
   "execution_count": 4,
   "metadata": {},
   "outputs": [],
   "source": [
    "# Импортирую модуль для работы с массивами в питоне. Теперь ко всем функциям доступным в модуле numpy можно обращаться\n",
    "# через np.*function_name*\n",
    "import numpy as np"
   ]
  },
  {
   "cell_type": "code",
   "execution_count": 5,
   "metadata": {},
   "outputs": [
    {
     "name": "stdout",
     "output_type": "stream",
     "text": [
      "[0. 0. 0. 0.]\n"
     ]
    }
   ],
   "source": [
    "#Например так можно создать массив (array) из четырех нулей\n",
    "zeros = np.zeros(4)\n",
    "print(zeros)"
   ]
  },
  {
   "cell_type": "code",
   "execution_count": 10,
   "metadata": {
    "scrolled": true
   },
   "outputs": [
    {
     "name": "stdout",
     "output_type": "stream",
     "text": [
      "[1. 1. 1. 1.]\n",
      "[2. 2. 2. 2.]\n",
      "[0.]\n"
     ]
    }
   ],
   "source": [
    "#С ним можно делать всякое\n",
    "print(zeros + 1)\n",
    "print( (zeros + 1) * 2)\n",
    "\n",
    "#доступ к элементам как в списке\n",
    "print(zeros[2:3])"
   ]
  },
  {
   "cell_type": "code",
   "execution_count": 12,
   "metadata": {},
   "outputs": [
    {
     "name": "stdout",
     "output_type": "stream",
     "text": [
      "[[0. 0. 0. 0.]\n",
      " [0. 0. 0. 0.]\n",
      " [0. 0. 0. 0.]]\n"
     ]
    }
   ],
   "source": [
    "#Двумерные массивы\n",
    "zeros_2d = np.zeros((3,4))\n",
    "zeros_2d\n",
    "print(zeros_2d)"
   ]
  },
  {
   "cell_type": "code",
   "execution_count": null,
   "metadata": {},
   "outputs": [],
   "source": [
    "#обращение к разным индексам через запятую\n",
    "zeros_2d[1,2] = 239\n",
    "zeros_2d"
   ]
  },
  {
   "cell_type": "code",
   "execution_count": null,
   "metadata": {},
   "outputs": [],
   "source": [
    "#куски тоже можно так вырезать\n",
    "zeros_2d[1:, 2:]"
   ]
  },
  {
   "cell_type": "markdown",
   "metadata": {},
   "source": [
    "В numpy еще куча всего, это основной наш инструмент, я буду писать комментарии везде, где использую какие-то функции оттуда. \n",
    "\n",
    "Документация легко гуглится, введение на английском можно почитать тут\n",
    "https://docs.scipy.org/doc/numpy/user/quickstart.html"
   ]
  },
  {
   "cell_type": "code",
   "execution_count": null,
   "metadata": {},
   "outputs": [],
   "source": []
  },
  {
   "cell_type": "markdown",
   "metadata": {},
   "source": [
    "## Освоимся немного с ноутбуком"
   ]
  },
  {
   "cell_type": "code",
   "execution_count": null,
   "metadata": {},
   "outputs": [],
   "source": [
    "l = [x for x in range(5)]\n",
    "l"
   ]
  },
  {
   "cell_type": "markdown",
   "metadata": {},
   "source": [
    "Напишите функцию, которая вернет четные элементы списка l\n"
   ]
  },
  {
   "cell_type": "code",
   "execution_count": null,
   "metadata": {},
   "outputs": [],
   "source": [
    "def get_even(some_list):\n",
    "    *YOUR CODE HERE*\n",
    "    return"
   ]
  },
  {
   "cell_type": "code",
   "execution_count": null,
   "metadata": {},
   "outputs": [],
   "source": [
    "print(get_even(l))"
   ]
  },
  {
   "cell_type": "markdown",
   "metadata": {},
   "source": [
    "Напишите функцию, которая вернет список из квадратов элементов списка l и проверьте, что работает\n"
   ]
  },
  {
   "cell_type": "code",
   "execution_count": null,
   "metadata": {},
   "outputs": [],
   "source": []
  },
  {
   "cell_type": "markdown",
   "metadata": {},
   "source": [
    "Напишите функцию, которая возвращает диагональные элементы квадратного двумерного массива"
   ]
  },
  {
   "cell_type": "code",
   "execution_count": null,
   "metadata": {},
   "outputs": [],
   "source": [
    "#функцией np.arange(16) я создаю массив от 0 до 15 (поведение почти как у питоновской range, только возвращает уже массив)\n",
    "#у каждого массива есть метод (фукнкция действующая на него самого) reshape, который меняет его форму. \n",
    "#т.е. после np.arange был массив [0,1,2....15] и у него была форма 1 на 16, а потом я сделал reshape((4,4))\n",
    "#массив стал квадратным, формы (4,4)\n",
    "square_matrix = np.arange(16).reshape((4,4))\n",
    "square_matrix"
   ]
  },
  {
   "cell_type": "code",
   "execution_count": null,
   "metadata": {},
   "outputs": [],
   "source": [
    "def get_diagonal(some_array):\n",
    "    \n",
    "    *YOUR CODE HERE*\n",
    "    \n",
    "    return "
   ]
  },
  {
   "cell_type": "code",
   "execution_count": null,
   "metadata": {},
   "outputs": [],
   "source": [
    "get_diagonal(square_matrix)"
   ]
  },
  {
   "cell_type": "code",
   "execution_count": null,
   "metadata": {},
   "outputs": [],
   "source": []
  },
  {
   "cell_type": "markdown",
   "metadata": {},
   "source": [
    "## Датасет\n",
    "\n",
    "В эту часть кода можно сильно не вникать, расскажу потом на занятии. Здесь я создаю датасет и подготавливаю функцию чтобы его напечатать"
   ]
  },
  {
   "cell_type": "code",
   "execution_count": null,
   "metadata": {},
   "outputs": [],
   "source": [
    "#Импортирую библиотеку для генерации линейных датасетов\n",
    "from sklearn.datasets import make_regression\n",
    "\n",
    "#библиотека для графиков\n",
    "import matplotlib.pyplot as plt\n",
    "%matplotlib inline"
   ]
  },
  {
   "cell_type": "code",
   "execution_count": null,
   "metadata": {},
   "outputs": [],
   "source": [
    "#Генерирую случайный датасет с шумом\n",
    "X, y = make_regression(n_samples=100, n_features=1, noise = 30, random_state=239)\n"
   ]
  },
  {
   "cell_type": "code",
   "execution_count": null,
   "metadata": {},
   "outputs": [],
   "source": [
    "#Так выглдит датасет\n",
    "plt.scatter(X, y)"
   ]
  },
  {
   "cell_type": "code",
   "execution_count": null,
   "metadata": {
    "scrolled": true
   },
   "outputs": [],
   "source": [
    "# функция чтобы строить красивый график\n",
    "def plot_with_estimated_line(X, y, theta):\n",
    "    if X.shape[1] == 1:\n",
    "        plt.scatter(X, y)\n",
    "    else:\n",
    "        plt.scatter(X[:, 0], y)\n",
    "\n",
    "    line_x = np.array([min(X[:, 0]), max(X[:, 0])])\n",
    "    line_y = np.array([element * theta[0] + theta[1] for element in line_x])\n",
    "\n",
    "    plt.plot(line_x, line_y, c = 'r')"
   ]
  },
  {
   "cell_type": "markdown",
   "metadata": {},
   "source": [
    "## Линейная регрессия\n",
    "\n",
    "Ниже три функции и цикл, куда надо вписать свой код чтобы все заработало"
   ]
  },
  {
   "cell_type": "code",
   "execution_count": null,
   "metadata": {},
   "outputs": [],
   "source": [
    "#Задаем произвольные коэффициенты нашей прямой\n",
    "theta = np.random.random(2)\n",
    "print(theta)"
   ]
  },
  {
   "cell_type": "code",
   "execution_count": null,
   "metadata": {},
   "outputs": [],
   "source": [
    "#Так выглядит датасет c нынешней прямой\n",
    "plot_with_estimated_line(X, y, theta)"
   ]
  },
  {
   "cell_type": "code",
   "execution_count": null,
   "metadata": {},
   "outputs": [],
   "source": [
    "#Приклеиваю к X столбец единиц справа с помощью np.hstack - функции склеивающей массивы в горизонтальном направлении.\n",
    "X = np.hstack((X, np.ones_like(X)))"
   ]
  },
  {
   "cell_type": "code",
   "execution_count": null,
   "metadata": {},
   "outputs": [],
   "source": [
    "# Функция для подсчета ошибки при данном theta. В лекциях назывется I.\n",
    "def calculate_loss(X, y, theta):\n",
    "    loss = *YOUR CODE HERE*\n",
    "    return loss"
   ]
  },
  {
   "cell_type": "code",
   "execution_count": null,
   "metadata": {},
   "outputs": [],
   "source": [
    "#функция считающая производные theta. Формулы есть в слайдах \n",
    "def calculate_gradients(X, y, theta):\n",
    "    theta_gradients = np.zeros_like(theta)\n",
    "    \n",
    "    theta_gradients = *YOUR CODE HERE*\n",
    "    \n",
    "    return theta_gradients"
   ]
  },
  {
   "cell_type": "code",
   "execution_count": null,
   "metadata": {},
   "outputs": [],
   "source": [
    "#Один шаг градиентного спуска\n",
    "def make_gradient_step(theta, theta_gradients, alpha):\n",
    "    theta =  *YOUR CODE HERE*\n",
    "    \n",
    "    return theta"
   ]
  },
  {
   "cell_type": "code",
   "execution_count": null,
   "metadata": {},
   "outputs": [],
   "source": [
    "#Собственно сам градиентный спуск\n",
    "\n",
    "alpha = 0.001\n",
    "start_loss = calculate_loss(X, y, theta)\n",
    "\n",
    "while *YOUR CODE HERE*:\n",
    "    theta_gradients = calculate_gradients(X, y, theta)\n",
    "    theta = make_gradient_step(theta, theta_gradients, alpha)\n",
    "    \n",
    "    *YOUR CODE HERE*\n",
    "    \n",
    "end_loss = calculate_loss(X, y, theta)"
   ]
  },
  {
   "cell_type": "code",
   "execution_count": null,
   "metadata": {},
   "outputs": [],
   "source": []
  },
  {
   "cell_type": "code",
   "execution_count": null,
   "metadata": {
    "scrolled": true
   },
   "outputs": [],
   "source": [
    "#Проверяем, что получилось\n",
    "plot_with_estimated_line(X, y, theta)"
   ]
  },
  {
   "cell_type": "code",
   "execution_count": null,
   "metadata": {},
   "outputs": [],
   "source": [
    "#Смотрим как поменялась ошибка\n",
    "print(\"Ошибка после случайной инициализации: \", start_loss)\n",
    "print(\"Ошибка после градиентного спуска: \", end_loss)"
   ]
  },
  {
   "cell_type": "code",
   "execution_count": null,
   "metadata": {},
   "outputs": [],
   "source": []
  },
  {
   "cell_type": "markdown",
   "metadata": {},
   "source": [
    "## Для дальнейшей творческой работы"
   ]
  },
  {
   "cell_type": "markdown",
   "metadata": {},
   "source": [
    "Можно реализовать все тоже самое в многомерном случае"
   ]
  },
  {
   "cell_type": "markdown",
   "metadata": {},
   "source": [
    "Можно заимплементить стохастический градиентный спуск и сравнить время работы\\кол-во шагов с обычным градиентным спуском. Это будет не очень репрезентативно в одномерном случае, но тем не меннее. "
   ]
  }
 ],
 "metadata": {
  "kernelspec": {
   "display_name": "Python 3",
   "language": "python",
   "name": "python3"
  },
  "language_info": {
   "codemirror_mode": {
    "name": "ipython",
    "version": 3
   },
   "file_extension": ".py",
   "mimetype": "text/x-python",
   "name": "python",
   "nbconvert_exporter": "python",
   "pygments_lexer": "ipython3",
   "version": "3.7.0"
  }
 },
 "nbformat": 4,
 "nbformat_minor": 2
}
