{
 "cells": [
  {
   "cell_type": "code",
   "execution_count": null,
   "metadata": {},
   "outputs": [],
   "source": [
    "import numpy as np\n",
    "from sklearn.datasets import make_regression\n",
    "import matplotlib.pyplot as plt\n",
    "%matplotlib inline"
   ]
  },
  {
   "cell_type": "code",
   "execution_count": null,
   "metadata": {
    "scrolled": true
   },
   "outputs": [],
   "source": [
    "def f(x):\n",
    "    return x * np.sin(x)+np.random.normal(0,4,x.shape[0])\n",
    "x=np.linspace(0,20,500)\n",
    "y=f(x)\n",
    "X=x=x.reshape([x.shape[0],1])\n",
    "for i in range(2,3):\n",
    "    X=np.concatenate([X,x**i],axis=1)\n",
    "X = np.hstack([X, np.ones_like(x)])\n",
    "theta = np.random.random(X.shape[1])\n",
    "print(X)"
   ]
  },
  {
   "cell_type": "code",
   "execution_count": null,
   "metadata": {},
   "outputs": [],
   "source": [
    "def calculate_loss(X, y, theta):\n",
    "    result=X.dot(theta)\n",
    "    difference=X.dot(theta)-y\n",
    "    N=y.shape[0]\n",
    "    loss = np.mean(difference**2)/2\n",
    "    return loss\n",
    "def calculate_gradients(X, y, theta):\n",
    "    theta_gradients = np.zeros_like(theta)\n",
    "    theta_gradients = X.T.dot(X.dot(theta)-y)/y.shape[0]\n",
    "    return theta_gradients\n",
    "def make_gradient_step(theta, theta_gradients, alpha):\n",
    "    theta-= theta_gradients*alpha\n",
    "    return theta"
   ]
  },
  {
   "cell_type": "code",
   "execution_count": null,
   "metadata": {},
   "outputs": [],
   "source": [
    "alpha = 0.000001\n",
    "theta = np.random.random(X.shape[1])\n",
    "start_loss = calculate_loss(X, y, theta)\n",
    "loss1=start_loss+1000\n",
    "loss2=start_loss\n",
    "while loss1-loss2>0.0000000001:\n",
    "    theta_gradients = calculate_gradients(X, y, theta)\n",
    "    theta = make_gradient_step(theta, theta_gradients, alpha)\n",
    "    loss1,loss2=loss2, calculate_loss(X,y,theta)\n",
    "    \n",
    "end_loss = calculate_loss(X, y, theta)\n",
    "plt.scatter(x,y)\n",
    "plt.plot(x, X.dot(theta), c = 'r')\n",
    "\n",
    "#Смотрим как поменялась ошибка\n",
    "print(\"Ошибка после случайной инициализации: \", start_loss)\n",
    "print(\"Ошибка после градиентного спуска: \", end_loss)\n",
    "print(theta)"
   ]
  },
  {
   "cell_type": "code",
   "execution_count": null,
   "metadata": {},
   "outputs": [],
   "source": []
  }
 ],
 "metadata": {
  "kernelspec": {
   "display_name": "Python 3",
   "language": "python",
   "name": "python3"
  },
  "language_info": {
   "codemirror_mode": {
    "name": "ipython",
    "version": 3
   },
   "file_extension": ".py",
   "mimetype": "text/x-python",
   "name": "python",
   "nbconvert_exporter": "python",
   "pygments_lexer": "ipython3",
   "version": "3.7.0"
  }
 },
 "nbformat": 4,
 "nbformat_minor": 2
}
