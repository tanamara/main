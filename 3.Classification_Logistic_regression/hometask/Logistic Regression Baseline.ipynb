{
 "cells": [
  {
   "cell_type": "code",
   "execution_count": null,
   "metadata": {},
   "outputs": [],
   "source": [
    "import numpy as np\n",
    "import matplotlib.pyplot as plt\n",
    "\n",
    "#pandas библиотека для работы с табличками, мы будем ее использовать чтобы загрузить данные и все\n",
    "import pandas as pd"
   ]
  },
  {
   "cell_type": "markdown",
   "metadata": {},
   "source": [
    "Загружаем данные"
   ]
  },
  {
   "cell_type": "code",
   "execution_count": null,
   "metadata": {},
   "outputs": [],
   "source": [
    "data = pd.read_csv(\"./data/train.csv\")"
   ]
  },
  {
   "cell_type": "code",
   "execution_count": null,
   "metadata": {
    "scrolled": true
   },
   "outputs": [],
   "source": [
    "data.head()"
   ]
  },
  {
   "cell_type": "markdown",
   "metadata": {},
   "source": [
    "Вытаскиваем из таблички x и y"
   ]
  },
  {
   "cell_type": "code",
   "execution_count": null,
   "metadata": {},
   "outputs": [],
   "source": [
    "x_train = data[data.columns[1:]].values\n",
    "y_train = data[data.columns[0]].values"
   ]
  },
  {
   "cell_type": "code",
   "execution_count": null,
   "metadata": {},
   "outputs": [],
   "source": [
    "print('shapes: ', x_train.shape, y_train.shape)"
   ]
  },
  {
   "cell_type": "markdown",
   "metadata": {},
   "source": [
    "В данных 42000 примеров, у каждого 784 признака. Эти признаки (pixel0 - pixel783) это просто пиксели картинки 28х28, с изображением цифры, растянутые в вектор длиной 28*28"
   ]
  },
  {
   "cell_type": "markdown",
   "metadata": {},
   "source": [
    "Рассмотрим пример цифры из данных. "
   ]
  },
  {
   "cell_type": "code",
   "execution_count": null,
   "metadata": {},
   "outputs": [],
   "source": [
    "digit_example = x_train[239]\n",
    "label_example = y_train[239]"
   ]
  },
  {
   "cell_type": "markdown",
   "metadata": {},
   "source": [
    "Зарешейпите digit_example, так чтобы отобразить его как картинку"
   ]
  },
  {
   "cell_type": "code",
   "execution_count": null,
   "metadata": {},
   "outputs": [],
   "source": [
    "digit_example_square = *your code here*"
   ]
  },
  {
   "cell_type": "code",
   "execution_count": null,
   "metadata": {},
   "outputs": [],
   "source": [
    "plt.imshow(digit_example_square)\n",
    "plt.show()"
   ]
  },
  {
   "cell_type": "markdown",
   "metadata": {},
   "source": [
    "Постройте по одному примеру каждой цифры. \n",
    "Для этого надо построить маску тех мест, где в Y определенная цифра, и построить любой из соответствующих X."
   ]
  },
  {
   "cell_type": "code",
   "execution_count": null,
   "metadata": {},
   "outputs": [],
   "source": [
    "for i in range(10):\n",
    "    \n",
    "    *your code here*\n",
    "    \n",
    "    digit_example = *your code here*\n",
    "    \n",
    "    print('Shape: ', digit_example.shape)\n",
    "    \n",
    "    plt.imshow(digit_example)\n",
    "    plt.show()"
   ]
  },
  {
   "cell_type": "code",
   "execution_count": null,
   "metadata": {},
   "outputs": [],
   "source": []
  },
  {
   "cell_type": "markdown",
   "metadata": {},
   "source": [
    "### Классификация из двух классов\n",
    "\n",
    "Построим классификатор, отличающий две цифры. \n",
    "\n",
    "Выделите из датасета кусок соответсвующий любым двум цифрам."
   ]
  },
  {
   "cell_type": "code",
   "execution_count": null,
   "metadata": {},
   "outputs": [],
   "source": [
    "x_train_subsample = *your code here*\n",
    "y_train_subsample = *your code here*"
   ]
  },
  {
   "cell_type": "markdown",
   "metadata": {},
   "source": [
    "Импортируем модель логистической регрессии из sklearn"
   ]
  },
  {
   "cell_type": "code",
   "execution_count": null,
   "metadata": {},
   "outputs": [],
   "source": [
    "from sklearn.linear_model import LogisticRegression"
   ]
  },
  {
   "cell_type": "markdown",
   "metadata": {},
   "source": [
    "В LogisticRegression по умолчанию вшита регуляризация.\n",
    "\n",
    "Параметр отвечающий за регуляризацию называется penalty и бывает:\n",
    "- 'l1' для регуляризации с помощью суммы модулей (как lasso)\n",
    "- 'l2' для регуляризации с помощью суммы квадратов (как ridge)\n",
    "\n",
    "Величина регуляризации характеризуется параметром C. Будьте внимательны. В докстринге про С написано:  \n",
    "С : float, default: 1.0\n",
    "     Inverse of regularization strength; must be a positive float. Like in support vector machines, smaller values specify stronger regularization.\n",
    "\n",
    "Это говорит о том, что С - обратный коэф регуляризации. Больше С, меньше регуляризация."
   ]
  },
  {
   "cell_type": "code",
   "execution_count": null,
   "metadata": {},
   "outputs": [],
   "source": [
    "lr = LogisticRegression(penalty = 'l2', C = 1)"
   ]
  },
  {
   "cell_type": "markdown",
   "metadata": {},
   "source": [
    "Проверьте логрегрессию на двух классах с помощью разбиения на train\\test или кросс валидации(может быть медленно)"
   ]
  },
  {
   "cell_type": "code",
   "execution_count": null,
   "metadata": {},
   "outputs": [],
   "source": [
    "from sklearn.model_selection import train_test_split, KFold"
   ]
  },
  {
   "cell_type": "code",
   "execution_count": null,
   "metadata": {},
   "outputs": [],
   "source": [
    "predictions = []\n",
    "\n",
    "*your code here*"
   ]
  },
  {
   "cell_type": "code",
   "execution_count": null,
   "metadata": {},
   "outputs": [],
   "source": []
  },
  {
   "cell_type": "markdown",
   "metadata": {},
   "source": [
    "Посчитайте roc_auc_score. \n",
    "\n",
    "Можно так же построить график roc кривой с помощью roc_curve и plt.plot()"
   ]
  },
  {
   "cell_type": "code",
   "execution_count": null,
   "metadata": {},
   "outputs": [],
   "source": [
    "from sklearn.metrics import roc_auc_score, roc_curve"
   ]
  },
  {
   "cell_type": "code",
   "execution_count": null,
   "metadata": {},
   "outputs": [],
   "source": [
    "*your code here*"
   ]
  },
  {
   "cell_type": "code",
   "execution_count": null,
   "metadata": {},
   "outputs": [],
   "source": [
    "print('Model CV AUC score', *your code here*)"
   ]
  },
  {
   "cell_type": "code",
   "execution_count": null,
   "metadata": {},
   "outputs": [],
   "source": []
  },
  {
   "cell_type": "markdown",
   "metadata": {},
   "source": [
    "Попробуйте настроить параметр принятия решения с помощью кросс валидации или train\\test разбиения. Для этого воспользуйтесь методом lr.predict_proba(). Данный метод вернет вероятности обоих классов для каждого примера, и можно будет все что больше определенного порога отнести к одному классу, все что меньше к другому. \n",
    "\n",
    "Ниже реализация без кросс валидации. Ваша задача для разных порогов обернуть этот кусок кода в кросс валидацию и выбрать оптимальный порог для данной пары. "
   ]
  },
  {
   "cell_type": "code",
   "execution_count": null,
   "metadata": {},
   "outputs": [],
   "source": [
    "proba = lr.predict_proba()\n",
    "\n",
    "treashold = 0.5\n",
    "predictions = (proba[:, 1] > 0.5).astype(int)\n",
    "\n"
   ]
  },
  {
   "cell_type": "markdown",
   "metadata": {},
   "source": [
    "### Классификация OneVsAll\n"
   ]
  },
  {
   "cell_type": "markdown",
   "metadata": {},
   "source": [
    "Данных много, так что обучить модель может быть не быстро. Чтобы ускорить процесс, можно для начала проредить выборку в 2-5 раз, взяв каждый  k-ый пример"
   ]
  },
  {
   "cell_type": "code",
   "execution_count": null,
   "metadata": {},
   "outputs": [],
   "source": [
    "x_train_rare = *your code here*\n",
    "y_train_rare = *your code here*"
   ]
  },
  {
   "cell_type": "markdown",
   "metadata": {},
   "source": [
    "Если после этого модель все еще будет учиться долго (больше 5-7 мин). Можно проредить еще и сами пиксели в 2 или 3 раза. \n",
    "\n",
    "Для этого надо сначала зарешейпить 784 в 28х28, потом вязть каждый n-ый пиксель, чтобы получить 9х9 и наконец зарешейпить назад в 81"
   ]
  },
  {
   "cell_type": "code",
   "execution_count": null,
   "metadata": {},
   "outputs": [],
   "source": [
    "x_train_rare_small = *your code here*"
   ]
  },
  {
   "cell_type": "markdown",
   "metadata": {},
   "source": [
    "Подготовим train_test_split."
   ]
  },
  {
   "cell_type": "code",
   "execution_count": null,
   "metadata": {},
   "outputs": [],
   "source": [
    "x_train_mlcs, y_train_mlcs =  *your code here*\n",
    "x_test_mlcs, y_test_mlcs =  *your code here*"
   ]
  },
  {
   "cell_type": "markdown",
   "metadata": {},
   "source": [
    "Проверьте, что в трейне и в тесте приблизительно поровну цифр всех видов. "
   ]
  },
  {
   "cell_type": "code",
   "execution_count": null,
   "metadata": {},
   "outputs": [],
   "source": [
    "for i in range(10):\n",
    "    print('train labels ', str(i), str((y_train_mlcs == i).sum()))\n",
    "    print('test labels ', str(i), str((y_test_mlcs == i).sum()))\n",
    "    "
   ]
  },
  {
   "cell_type": "markdown",
   "metadata": {},
   "source": [
    "Если цифры не равномерно распределились, то нужно повторить разбиение предварително перемешав массивы x_train и y_train.\n",
    "\n",
    "Для этого следует взять индексы, перемешать их, а потом вязть x и y в таком порядке"
   ]
  },
  {
   "cell_type": "code",
   "execution_count": null,
   "metadata": {},
   "outputs": [],
   "source": [
    "idxs = np.arange(x_train_rare_small.shape[0])\n",
    "np.random.shuffle(idxs)\n",
    "\n",
    "x_train_rare_small_shuffle =  *your code here*\n",
    "y_train_rare_shuffle =  *your code here*\n",
    "\n",
    "x_train_mlcs, y_train_mlcs =  *your code here*\n",
    "x_test_mlcs, y_test_mlcs =  *your code here*"
   ]
  },
  {
   "cell_type": "markdown",
   "metadata": {},
   "source": [
    "Теперь данные готовы\n",
    "\n",
    "В sklearn есть готовая обертка для многоклассовой классификации"
   ]
  },
  {
   "cell_type": "code",
   "execution_count": null,
   "metadata": {},
   "outputs": [],
   "source": [
    "from sklearn.multiclass import OneVsRestClassifier"
   ]
  },
  {
   "cell_type": "markdown",
   "metadata": {},
   "source": [
    "Для использования OneVsRestClassifier надо сначала создать базовый классификатор, и передать его первым аргументом в OneVsRest. У OneVsRest есть парамерт n_jobs, который регулирует кол-во параллельных процессов обучения. Имеет смысл поставить количество ядер на машине, или кол-во ядер -1"
   ]
  },
  {
   "cell_type": "code",
   "execution_count": null,
   "metadata": {},
   "outputs": [],
   "source": [
    "lr =  *your code here*\n",
    "ovr_clsf = OneVsRestClassifier(lr, n_jobs=8)"
   ]
  },
  {
   "cell_type": "markdown",
   "metadata": {},
   "source": [
    "Теперь учим модель и предсказываем"
   ]
  },
  {
   "cell_type": "code",
   "execution_count": null,
   "metadata": {},
   "outputs": [],
   "source": [
    "ovr_clsf.fit()\n",
    "pred = ovr_clsf.predict()\n"
   ]
  },
  {
   "cell_type": "markdown",
   "metadata": {},
   "source": [
    "Если цифры распределенны равномерно, то accuracy - неплохая метрика. Другой неплохой способ оценки - матрица ошибок, confusion matrix. Это матрица, в которой $M_{ij}$ это кол-во примеров с лэйблом i, предсказанных как j.\n",
    "\n",
    "Посчитайте обе этих метрики"
   ]
  },
  {
   "cell_type": "code",
   "execution_count": null,
   "metadata": {},
   "outputs": [],
   "source": [
    "from sklearn.metrics import confusion_matrix, accuracy_score"
   ]
  },
  {
   "cell_type": "code",
   "execution_count": null,
   "metadata": {},
   "outputs": [],
   "source": []
  },
  {
   "cell_type": "markdown",
   "metadata": {},
   "source": [
    "Опишите какие цифры модель хуже всего отличает друг от друга.\n",
    "\n",
    "Еще можно нарисовать несколько примеров цифр, в которых модель ошиблась. Вероятно у вас тоже возникнут проблемы с ними."
   ]
  },
  {
   "cell_type": "code",
   "execution_count": null,
   "metadata": {},
   "outputs": [],
   "source": []
  },
  {
   "cell_type": "markdown",
   "metadata": {},
   "source": [
    "Чтобы получить хорошую оценку модели есть два варианта.\n",
    "\n",
    "1. Для каждого класса посчитать precision, recall и FPR и усреднить. Это называется макрометрики.\n",
    "2. Считать не средние precision, recall и FPR, а сделать их сразу усредненными, это называется микрометрики. \n",
    "Например вот такой будет precision\n",
    "\n",
    "     $$ Precision_{micro} = \\frac{TP_1 + ... TP_k}{TP_1 + ... TP_k + FP_1 + ... FP_k}$$\n",
    "\n",
    "https://www.quora.com/What-are-some-good-error-metrics-for-multi-class-classification-when-you-have-many-objects-to-classify"
   ]
  },
  {
   "cell_type": "markdown",
   "metadata": {},
   "source": [
    "Если есть желание, можно посчитать такие метрики. "
   ]
  },
  {
   "cell_type": "code",
   "execution_count": null,
   "metadata": {},
   "outputs": [],
   "source": []
  },
  {
   "cell_type": "code",
   "execution_count": null,
   "metadata": {},
   "outputs": [],
   "source": []
  },
  {
   "cell_type": "markdown",
   "metadata": {},
   "source": [
    "### Предсказания. \n",
    "\n",
    "С помощью лучшей модели можно построить предсказания. Проверить что там предсказалось можно на сайте https://www.kaggle.com/c/digit-recognizer/leaderboard\n",
    "Там есть инструкция в каком формате нужно представить данные для отправки решения. Чтобы сохранять файл в формате csv (coma separated value), есть специальные функции в pandas\n",
    "\n",
    "Это соревнование по классификации цифр и наша модель там не должна быть супер хороша пока, тем не меннее попробовать отправить вполне можно. \n",
    "\n",
    "Ниже набросок правильной обработки данных для отправки. "
   ]
  },
  {
   "cell_type": "code",
   "execution_count": null,
   "metadata": {},
   "outputs": [],
   "source": [
    "test_data = pd.read_csv(\"./data/test.csv\")"
   ]
  },
  {
   "cell_type": "code",
   "execution_count": null,
   "metadata": {},
   "outputs": [],
   "source": [
    "test_x = test_data.values"
   ]
  },
  {
   "cell_type": "code",
   "execution_count": null,
   "metadata": {},
   "outputs": [],
   "source": [
    "#make predictions\n",
    "*your code here*"
   ]
  },
  {
   "cell_type": "code",
   "execution_count": null,
   "metadata": {},
   "outputs": [],
   "source": [
    "idxs = test_data.index.values"
   ]
  },
  {
   "cell_type": "code",
   "execution_count": null,
   "metadata": {},
   "outputs": [],
   "source": [
    "pred_w_indexes = np.hstack((idxs.reshape(-1, 1), pred.reshape(-1, 1)))\n",
    "\n",
    "pred_as_pandas_data_frame = pd.DataFrame(pred_w_indexes, columns = ['ImageId','Label'])\n",
    "\n",
    "pred_as_pandas_data_frame .to_csv('pred.csv')"
   ]
  }
 ],
 "metadata": {
  "kernelspec": {
   "display_name": "Python 3",
   "language": "python",
   "name": "python3"
  },
  "language_info": {
   "codemirror_mode": {
    "name": "ipython",
    "version": 3
   },
   "file_extension": ".py",
   "mimetype": "text/x-python",
   "name": "python",
   "nbconvert_exporter": "python",
   "pygments_lexer": "ipython3",
   "version": "3.6.3"
  }
 },
 "nbformat": 4,
 "nbformat_minor": 2
}
